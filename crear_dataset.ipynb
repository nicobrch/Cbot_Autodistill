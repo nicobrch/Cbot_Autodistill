{
 "cells": [
  {
   "cell_type": "markdown",
   "id": "8c59d9e5",
   "metadata": {},
   "source": [
    "# Definir variables"
   ]
  },
  {
   "cell_type": "code",
   "execution_count": 1,
   "id": "01fd01cd",
   "metadata": {},
   "outputs": [],
   "source": [
    "INPUT_VIDEO = \"./videos/casa_de_cambio_2-20250901_mix_hasta_1030.mp4\"\n",
    "FRAMES_DIR = \"./frames\"     # Directorio donde se guardaran los frames extraidos del video\n",
    "DATASET_DIR = \"./dataset\"   # Directorio donde se guardara el dataset generado por autodistill\n",
    "FRAME_RATE = 1              # FPS a los que se extraeran los frames\n",
    "\n",
    "from autodistill.detection import CaptionOntology\n",
    "\n",
    "# Ontología para crear clases -> { \"lo que el modelo buscara\" : \"nombre final de la clase\" }\n",
    "ontology = CaptionOntology({\n",
    "    \"vehicle\": \"vehicle\",\n",
    "    \"person\": \"person\"\n",
    "})"
   ]
  },
  {
   "cell_type": "markdown",
   "id": "3284e1ef",
   "metadata": {},
   "source": [
    "# Extraer Frames de Video en Alta calidad"
   ]
  },
  {
   "cell_type": "code",
   "execution_count": 2,
   "id": "8ac30a4a",
   "metadata": {},
   "outputs": [],
   "source": [
    "import subprocess\n",
    "import shutil\n",
    "from pathlib import Path\n",
    "\n",
    "if not INPUT_VIDEO:\n",
    "    raise ValueError(\"Set INPUT_VIDEO to the path of the video file.\")\n",
    "if not FRAMES_DIR:\n",
    "    raise ValueError(\"Set FRAMES_DIR to the output directory for frames.\")\n",
    "if not FRAME_RATE or FRAME_RATE <= 0:\n",
    "    raise ValueError(\"FRAME_RATE must be a positive number.\")\n",
    "if shutil.which(\"ffmpeg\") is None:\n",
    "    raise EnvironmentError(\"ffmpeg is not installed or not in PATH.\")\n",
    "\n",
    "in_path = Path(INPUT_VIDEO)\n",
    "out_dir = Path(FRAMES_DIR) / in_path.stem\n",
    "out_dir.mkdir(parents=True, exist_ok=True)"
   ]
  },
  {
   "cell_type": "code",
   "execution_count": null,
   "id": "1cca956b",
   "metadata": {},
   "outputs": [],
   "source": [
    "output_pattern = str(out_dir / \"frame_%06d.png\")  # PNG for lossless (max quality)\n",
    "\n",
    "cmd = [\n",
    "    \"ffmpeg\",\n",
    "    \"-hide_banner\",\n",
    "    \"-hwaccel\", \"cuda\",\n",
    "    \"-loglevel\", \"error\",\n",
    "    \"-i\", str(in_path),\n",
    "    \"-vf\", f\"fps={FRAME_RATE}\",\n",
    "    \"-vsync\", \"0\",\n",
    "    \"-y\",\n",
    "    output_pattern,\n",
    "]\n",
    "\n",
    "subprocess.run(cmd, check=True)\n",
    "print(f\"Frames extracted to: {out_dir}\")"
   ]
  },
  {
   "cell_type": "markdown",
   "id": "ef411d39",
   "metadata": {},
   "source": [
    "# Etiquetar usando Grounding DINO"
   ]
  },
  {
   "cell_type": "code",
   "execution_count": 3,
   "id": "5da5f0a0",
   "metadata": {},
   "outputs": [
    {
     "name": "stderr",
     "output_type": "stream",
     "text": [
      "Importing from timm.models.layers is deprecated, please import via timm.layers\n",
      "torch.meshgrid: in an upcoming release, it will be required to pass the indexing argument. (Triggered internally at C:\\actions-runner\\_work\\pytorch\\pytorch\\pytorch\\aten\\src\\ATen\\native\\TensorShape.cpp:4324.)\n"
     ]
    },
    {
     "name": "stdout",
     "output_type": "stream",
     "text": [
      "trying to load grounding dino directly\n",
      "final text_encoder_type: bert-base-uncased\n",
      "Etiquetando frames en ./frames/casa_de_cambio_2-20250901_mix_hasta_1030\n"
     ]
    },
    {
     "name": "stderr",
     "output_type": "stream",
     "text": [
      "Labeling ./frames/casa_de_cambio_2-20250901_mix_hasta_1030\\frame_000001.png:   0%|          | 0/748 [00:00<?, ?it/s]The `device` argument is deprecated and will be removed in v5 of Transformers.\n",
      "torch.utils.checkpoint: the use_reentrant parameter should be passed explicitly. In version 2.5 we will raise an exception if use_reentrant is not passed. use_reentrant=False is recommended, but if you need to preserve the current default behavior, you can pass use_reentrant=True. Refer to docs for more details on the differences between the two variants.\n",
      "None of the inputs have requires_grad=True. Gradients will be None\n",
      "`torch.cuda.amp.autocast(args...)` is deprecated. Please use `torch.amp.autocast('cuda', args...)` instead.\n",
      "Labeling ./frames/casa_de_cambio_2-20250901_mix_hasta_1030\\frame_000002.png:   0%|          | 1/748 [00:02<36:00,  2.89s/it]\n"
     ]
    },
    {
     "ename": "AcceleratorError",
     "evalue": "CUDA error: an illegal memory access was encountered\nCUDA kernel errors might be asynchronously reported at some other API call, so the stacktrace below might be incorrect.\nFor debugging consider passing CUDA_LAUNCH_BLOCKING=1\nCompile with `TORCH_USE_CUDA_DSA` to enable device-side assertions.\n",
     "output_type": "error",
     "traceback": [
      "\u001b[31m---------------------------------------------------------------------------\u001b[39m",
      "\u001b[31mAcceleratorError\u001b[39m                          Traceback (most recent call last)",
      "\u001b[36mCell\u001b[39m\u001b[36m \u001b[39m\u001b[32mIn[3]\u001b[39m\u001b[32m, line 17\u001b[39m\n\u001b[32m     13\u001b[39m base_model = GroundingDINO(ontology=ontology)\n\u001b[32m     15\u001b[39m \u001b[38;5;28mprint\u001b[39m(\u001b[33mf\u001b[39m\u001b[33m\"\u001b[39m\u001b[33mEtiquetando frames en ./frames/\u001b[39m\u001b[38;5;132;01m{\u001b[39;00mout_dir.name\u001b[38;5;132;01m}\u001b[39;00m\u001b[33m\"\u001b[39m)\n\u001b[32m---> \u001b[39m\u001b[32m17\u001b[39m \u001b[43mbase_model\u001b[49m\u001b[43m.\u001b[49m\u001b[43mlabel\u001b[49m\u001b[43m(\u001b[49m\u001b[43minput_folder\u001b[49m\u001b[43m=\u001b[49m\u001b[33;43mf\u001b[39;49m\u001b[33;43m\"\u001b[39;49m\u001b[33;43m./frames/\u001b[39;49m\u001b[38;5;132;43;01m{\u001b[39;49;00m\u001b[43mout_dir\u001b[49m\u001b[43m.\u001b[49m\u001b[43mname\u001b[49m\u001b[38;5;132;43;01m}\u001b[39;49;00m\u001b[33;43m\"\u001b[39;49m\u001b[43m,\u001b[49m\u001b[43m \u001b[49m\u001b[43mextension\u001b[49m\u001b[43m=\u001b[49m\u001b[33;43m\"\u001b[39;49m\u001b[33;43m.png\u001b[39;49m\u001b[33;43m\"\u001b[39;49m\u001b[43m,\u001b[49m\u001b[43m \u001b[49m\u001b[43moutput_folder\u001b[49m\u001b[43m=\u001b[49m\u001b[33;43mf\u001b[39;49m\u001b[33;43m\"\u001b[39;49m\u001b[33;43m./dataset/\u001b[39;49m\u001b[38;5;132;43;01m{\u001b[39;49;00m\u001b[43mout_dir\u001b[49m\u001b[43m.\u001b[49m\u001b[43mname\u001b[49m\u001b[38;5;132;43;01m}\u001b[39;49;00m\u001b[33;43m\"\u001b[39;49m\u001b[43m)\u001b[49m\n\u001b[32m     19\u001b[39m \u001b[38;5;28mprint\u001b[39m(\u001b[33mf\u001b[39m\u001b[33m\"\u001b[39m\u001b[33mDataset creado en: ./dataset/\u001b[39m\u001b[38;5;132;01m{\u001b[39;00mout_dir.name\u001b[38;5;132;01m}\u001b[39;00m\u001b[33m\"\u001b[39m)\n",
      "\u001b[36mFile \u001b[39m\u001b[32mc:\\Users\\nico\\Code\\Cbot_Autodistill\\.venv\\Lib\\site-packages\\autodistill\\detection\\detection_base_model.py:96\u001b[39m, in \u001b[36mDetectionBaseModel.label\u001b[39m\u001b[34m(self, input_folder, extension, output_folder, human_in_the_loop, roboflow_project, roboflow_tags, sahi, record_confidence, nms_settings)\u001b[39m\n\u001b[32m     94\u001b[39m     detections = slicer(image)\n\u001b[32m     95\u001b[39m \u001b[38;5;28;01melse\u001b[39;00m:\n\u001b[32m---> \u001b[39m\u001b[32m96\u001b[39m     detections = \u001b[38;5;28;43mself\u001b[39;49m\u001b[43m.\u001b[49m\u001b[43mpredict\u001b[49m\u001b[43m(\u001b[49m\u001b[43mimage\u001b[49m\u001b[43m)\u001b[49m\n\u001b[32m     98\u001b[39m \u001b[38;5;28;01mif\u001b[39;00m nms_settings == NmsSetting.CLASS_SPECIFIC:\n\u001b[32m     99\u001b[39m     detections = detections.with_nms()\n",
      "\u001b[36mFile \u001b[39m\u001b[32mc:\\Users\\nico\\Code\\Cbot_Autodistill\\.venv\\Lib\\site-packages\\autodistill_grounding_dino\\grounding_dino_model.py:44\u001b[39m, in \u001b[36mGroundingDINO.predict\u001b[39m\u001b[34m(self, input)\u001b[39m\n\u001b[32m     41\u001b[39m detections_list = []\n\u001b[32m     43\u001b[39m \u001b[38;5;28;01mfor\u001b[39;00m _, description \u001b[38;5;129;01min\u001b[39;00m \u001b[38;5;28menumerate\u001b[39m(\u001b[38;5;28mself\u001b[39m.ontology.prompts()):\n\u001b[32m---> \u001b[39m\u001b[32m44\u001b[39m     detections = \u001b[38;5;28;43mself\u001b[39;49m\u001b[43m.\u001b[49m\u001b[43mgrounding_dino_model\u001b[49m\u001b[43m.\u001b[49m\u001b[43mpredict_with_classes\u001b[49m\u001b[43m(\u001b[49m\n\u001b[32m     45\u001b[39m \u001b[43m        \u001b[49m\u001b[43mimage\u001b[49m\u001b[43m=\u001b[49m\u001b[43mimage\u001b[49m\u001b[43m,\u001b[49m\n\u001b[32m     46\u001b[39m \u001b[43m        \u001b[49m\u001b[43mclasses\u001b[49m\u001b[43m=\u001b[49m\u001b[43m[\u001b[49m\u001b[43mdescription\u001b[49m\u001b[43m]\u001b[49m\u001b[43m,\u001b[49m\n\u001b[32m     47\u001b[39m \u001b[43m        \u001b[49m\u001b[43mbox_threshold\u001b[49m\u001b[43m=\u001b[49m\u001b[38;5;28;43mself\u001b[39;49m\u001b[43m.\u001b[49m\u001b[43mbox_threshold\u001b[49m\u001b[43m,\u001b[49m\n\u001b[32m     48\u001b[39m \u001b[43m        \u001b[49m\u001b[43mtext_threshold\u001b[49m\u001b[43m=\u001b[49m\u001b[38;5;28;43mself\u001b[39;49m\u001b[43m.\u001b[49m\u001b[43mtext_threshold\u001b[49m\u001b[43m,\u001b[49m\n\u001b[32m     49\u001b[39m \u001b[43m    \u001b[49m\u001b[43m)\u001b[49m\n\u001b[32m     51\u001b[39m     detections_list.append(detections)\n\u001b[32m     53\u001b[39m detections = combine_detections(\n\u001b[32m     54\u001b[39m     detections_list, overwrite_class_ids=\u001b[38;5;28mrange\u001b[39m(\u001b[38;5;28mlen\u001b[39m(detections_list))\n\u001b[32m     55\u001b[39m )\n",
      "\u001b[36mFile \u001b[39m\u001b[32mc:\\Users\\nico\\Code\\Cbot_Autodistill\\.venv\\Lib\\site-packages\\groundingdino\\util\\inference.py:194\u001b[39m, in \u001b[36mModel.predict_with_classes\u001b[39m\u001b[34m(self, image, classes, box_threshold, text_threshold)\u001b[39m\n\u001b[32m    192\u001b[39m caption = \u001b[33m\"\u001b[39m\u001b[33m. \u001b[39m\u001b[33m\"\u001b[39m.join(classes)\n\u001b[32m    193\u001b[39m processed_image = Model.preprocess_image(image_bgr=image).to(\u001b[38;5;28mself\u001b[39m.device)\n\u001b[32m--> \u001b[39m\u001b[32m194\u001b[39m boxes, logits, phrases = \u001b[43mpredict\u001b[49m\u001b[43m(\u001b[49m\n\u001b[32m    195\u001b[39m \u001b[43m    \u001b[49m\u001b[43mmodel\u001b[49m\u001b[43m=\u001b[49m\u001b[38;5;28;43mself\u001b[39;49m\u001b[43m.\u001b[49m\u001b[43mmodel\u001b[49m\u001b[43m,\u001b[49m\n\u001b[32m    196\u001b[39m \u001b[43m    \u001b[49m\u001b[43mimage\u001b[49m\u001b[43m=\u001b[49m\u001b[43mprocessed_image\u001b[49m\u001b[43m,\u001b[49m\n\u001b[32m    197\u001b[39m \u001b[43m    \u001b[49m\u001b[43mcaption\u001b[49m\u001b[43m=\u001b[49m\u001b[43mcaption\u001b[49m\u001b[43m,\u001b[49m\n\u001b[32m    198\u001b[39m \u001b[43m    \u001b[49m\u001b[43mbox_threshold\u001b[49m\u001b[43m=\u001b[49m\u001b[43mbox_threshold\u001b[49m\u001b[43m,\u001b[49m\n\u001b[32m    199\u001b[39m \u001b[43m    \u001b[49m\u001b[43mtext_threshold\u001b[49m\u001b[43m=\u001b[49m\u001b[43mtext_threshold\u001b[49m\u001b[43m,\u001b[49m\n\u001b[32m    200\u001b[39m \u001b[43m    \u001b[49m\u001b[43mdevice\u001b[49m\u001b[43m=\u001b[49m\u001b[38;5;28;43mself\u001b[39;49m\u001b[43m.\u001b[49m\u001b[43mdevice\u001b[49m\u001b[43m)\u001b[49m\n\u001b[32m    201\u001b[39m source_h, source_w, _ = image.shape\n\u001b[32m    202\u001b[39m detections = Model.post_process_result(\n\u001b[32m    203\u001b[39m     source_h=source_h,\n\u001b[32m    204\u001b[39m     source_w=source_w,\n\u001b[32m    205\u001b[39m     boxes=boxes,\n\u001b[32m    206\u001b[39m     logits=logits)\n",
      "\u001b[36mFile \u001b[39m\u001b[32mc:\\Users\\nico\\Code\\Cbot_Autodistill\\.venv\\Lib\\site-packages\\groundingdino\\util\\inference.py:66\u001b[39m, in \u001b[36mpredict\u001b[39m\u001b[34m(model, image, caption, box_threshold, text_threshold, device)\u001b[39m\n\u001b[32m     63\u001b[39m image = image.to(device)\n\u001b[32m     65\u001b[39m \u001b[38;5;28;01mwith\u001b[39;00m torch.no_grad():\n\u001b[32m---> \u001b[39m\u001b[32m66\u001b[39m     outputs = \u001b[43mmodel\u001b[49m\u001b[43m(\u001b[49m\u001b[43mimage\u001b[49m\u001b[43m[\u001b[49m\u001b[38;5;28;43;01mNone\u001b[39;49;00m\u001b[43m]\u001b[49m\u001b[43m,\u001b[49m\u001b[43m \u001b[49m\u001b[43mcaptions\u001b[49m\u001b[43m=\u001b[49m\u001b[43m[\u001b[49m\u001b[43mcaption\u001b[49m\u001b[43m]\u001b[49m\u001b[43m)\u001b[49m\n\u001b[32m     68\u001b[39m prediction_logits = outputs[\u001b[33m\"\u001b[39m\u001b[33mpred_logits\u001b[39m\u001b[33m\"\u001b[39m].cpu().sigmoid()[\u001b[32m0\u001b[39m]  \u001b[38;5;66;03m# prediction_logits.shape = (nq, 256)\u001b[39;00m\n\u001b[32m     69\u001b[39m prediction_boxes = outputs[\u001b[33m\"\u001b[39m\u001b[33mpred_boxes\u001b[39m\u001b[33m\"\u001b[39m].cpu()[\u001b[32m0\u001b[39m]  \u001b[38;5;66;03m# prediction_boxes.shape = (nq, 4)\u001b[39;00m\n",
      "\u001b[36mFile \u001b[39m\u001b[32mc:\\Users\\nico\\Code\\Cbot_Autodistill\\.venv\\Lib\\site-packages\\torch\\nn\\modules\\module.py:1773\u001b[39m, in \u001b[36mModule._wrapped_call_impl\u001b[39m\u001b[34m(self, *args, **kwargs)\u001b[39m\n\u001b[32m   1771\u001b[39m     \u001b[38;5;28;01mreturn\u001b[39;00m \u001b[38;5;28mself\u001b[39m._compiled_call_impl(*args, **kwargs)  \u001b[38;5;66;03m# type: ignore[misc]\u001b[39;00m\n\u001b[32m   1772\u001b[39m \u001b[38;5;28;01melse\u001b[39;00m:\n\u001b[32m-> \u001b[39m\u001b[32m1773\u001b[39m     \u001b[38;5;28;01mreturn\u001b[39;00m \u001b[38;5;28;43mself\u001b[39;49m\u001b[43m.\u001b[49m\u001b[43m_call_impl\u001b[49m\u001b[43m(\u001b[49m\u001b[43m*\u001b[49m\u001b[43margs\u001b[49m\u001b[43m,\u001b[49m\u001b[43m \u001b[49m\u001b[43m*\u001b[49m\u001b[43m*\u001b[49m\u001b[43mkwargs\u001b[49m\u001b[43m)\u001b[49m\n",
      "\u001b[36mFile \u001b[39m\u001b[32mc:\\Users\\nico\\Code\\Cbot_Autodistill\\.venv\\Lib\\site-packages\\torch\\nn\\modules\\module.py:1784\u001b[39m, in \u001b[36mModule._call_impl\u001b[39m\u001b[34m(self, *args, **kwargs)\u001b[39m\n\u001b[32m   1779\u001b[39m \u001b[38;5;66;03m# If we don't have any hooks, we want to skip the rest of the logic in\u001b[39;00m\n\u001b[32m   1780\u001b[39m \u001b[38;5;66;03m# this function, and just call forward.\u001b[39;00m\n\u001b[32m   1781\u001b[39m \u001b[38;5;28;01mif\u001b[39;00m \u001b[38;5;129;01mnot\u001b[39;00m (\u001b[38;5;28mself\u001b[39m._backward_hooks \u001b[38;5;129;01mor\u001b[39;00m \u001b[38;5;28mself\u001b[39m._backward_pre_hooks \u001b[38;5;129;01mor\u001b[39;00m \u001b[38;5;28mself\u001b[39m._forward_hooks \u001b[38;5;129;01mor\u001b[39;00m \u001b[38;5;28mself\u001b[39m._forward_pre_hooks\n\u001b[32m   1782\u001b[39m         \u001b[38;5;129;01mor\u001b[39;00m _global_backward_pre_hooks \u001b[38;5;129;01mor\u001b[39;00m _global_backward_hooks\n\u001b[32m   1783\u001b[39m         \u001b[38;5;129;01mor\u001b[39;00m _global_forward_hooks \u001b[38;5;129;01mor\u001b[39;00m _global_forward_pre_hooks):\n\u001b[32m-> \u001b[39m\u001b[32m1784\u001b[39m     \u001b[38;5;28;01mreturn\u001b[39;00m \u001b[43mforward_call\u001b[49m\u001b[43m(\u001b[49m\u001b[43m*\u001b[49m\u001b[43margs\u001b[49m\u001b[43m,\u001b[49m\u001b[43m \u001b[49m\u001b[43m*\u001b[49m\u001b[43m*\u001b[49m\u001b[43mkwargs\u001b[49m\u001b[43m)\u001b[49m\n\u001b[32m   1786\u001b[39m result = \u001b[38;5;28;01mNone\u001b[39;00m\n\u001b[32m   1787\u001b[39m called_always_called_hooks = \u001b[38;5;28mset\u001b[39m()\n",
      "\u001b[36mFile \u001b[39m\u001b[32mc:\\Users\\nico\\Code\\Cbot_Autodistill\\.venv\\Lib\\site-packages\\groundingdino\\models\\GroundingDINO\\groundingdino.py:313\u001b[39m, in \u001b[36mGroundingDINO.forward\u001b[39m\u001b[34m(self, samples, targets, **kw)\u001b[39m\n\u001b[32m    310\u001b[39m         poss.append(pos_l)\n\u001b[32m    312\u001b[39m input_query_bbox = input_query_label = attn_mask = dn_meta = \u001b[38;5;28;01mNone\u001b[39;00m\n\u001b[32m--> \u001b[39m\u001b[32m313\u001b[39m hs, reference, hs_enc, ref_enc, init_box_proposal = \u001b[38;5;28;43mself\u001b[39;49m\u001b[43m.\u001b[49m\u001b[43mtransformer\u001b[49m\u001b[43m(\u001b[49m\n\u001b[32m    314\u001b[39m \u001b[43m    \u001b[49m\u001b[43msrcs\u001b[49m\u001b[43m,\u001b[49m\u001b[43m \u001b[49m\u001b[43mmasks\u001b[49m\u001b[43m,\u001b[49m\u001b[43m \u001b[49m\u001b[43minput_query_bbox\u001b[49m\u001b[43m,\u001b[49m\u001b[43m \u001b[49m\u001b[43mposs\u001b[49m\u001b[43m,\u001b[49m\u001b[43m \u001b[49m\u001b[43minput_query_label\u001b[49m\u001b[43m,\u001b[49m\u001b[43m \u001b[49m\u001b[43mattn_mask\u001b[49m\u001b[43m,\u001b[49m\u001b[43m \u001b[49m\u001b[43mtext_dict\u001b[49m\n\u001b[32m    315\u001b[39m \u001b[43m\u001b[49m\u001b[43m)\u001b[49m\n\u001b[32m    317\u001b[39m \u001b[38;5;66;03m# deformable-detr-like anchor update\u001b[39;00m\n\u001b[32m    318\u001b[39m outputs_coord_list = []\n",
      "\u001b[36mFile \u001b[39m\u001b[32mc:\\Users\\nico\\Code\\Cbot_Autodistill\\.venv\\Lib\\site-packages\\torch\\nn\\modules\\module.py:1773\u001b[39m, in \u001b[36mModule._wrapped_call_impl\u001b[39m\u001b[34m(self, *args, **kwargs)\u001b[39m\n\u001b[32m   1771\u001b[39m     \u001b[38;5;28;01mreturn\u001b[39;00m \u001b[38;5;28mself\u001b[39m._compiled_call_impl(*args, **kwargs)  \u001b[38;5;66;03m# type: ignore[misc]\u001b[39;00m\n\u001b[32m   1772\u001b[39m \u001b[38;5;28;01melse\u001b[39;00m:\n\u001b[32m-> \u001b[39m\u001b[32m1773\u001b[39m     \u001b[38;5;28;01mreturn\u001b[39;00m \u001b[38;5;28;43mself\u001b[39;49m\u001b[43m.\u001b[49m\u001b[43m_call_impl\u001b[49m\u001b[43m(\u001b[49m\u001b[43m*\u001b[49m\u001b[43margs\u001b[49m\u001b[43m,\u001b[49m\u001b[43m \u001b[49m\u001b[43m*\u001b[49m\u001b[43m*\u001b[49m\u001b[43mkwargs\u001b[49m\u001b[43m)\u001b[49m\n",
      "\u001b[36mFile \u001b[39m\u001b[32mc:\\Users\\nico\\Code\\Cbot_Autodistill\\.venv\\Lib\\site-packages\\torch\\nn\\modules\\module.py:1784\u001b[39m, in \u001b[36mModule._call_impl\u001b[39m\u001b[34m(self, *args, **kwargs)\u001b[39m\n\u001b[32m   1779\u001b[39m \u001b[38;5;66;03m# If we don't have any hooks, we want to skip the rest of the logic in\u001b[39;00m\n\u001b[32m   1780\u001b[39m \u001b[38;5;66;03m# this function, and just call forward.\u001b[39;00m\n\u001b[32m   1781\u001b[39m \u001b[38;5;28;01mif\u001b[39;00m \u001b[38;5;129;01mnot\u001b[39;00m (\u001b[38;5;28mself\u001b[39m._backward_hooks \u001b[38;5;129;01mor\u001b[39;00m \u001b[38;5;28mself\u001b[39m._backward_pre_hooks \u001b[38;5;129;01mor\u001b[39;00m \u001b[38;5;28mself\u001b[39m._forward_hooks \u001b[38;5;129;01mor\u001b[39;00m \u001b[38;5;28mself\u001b[39m._forward_pre_hooks\n\u001b[32m   1782\u001b[39m         \u001b[38;5;129;01mor\u001b[39;00m _global_backward_pre_hooks \u001b[38;5;129;01mor\u001b[39;00m _global_backward_hooks\n\u001b[32m   1783\u001b[39m         \u001b[38;5;129;01mor\u001b[39;00m _global_forward_hooks \u001b[38;5;129;01mor\u001b[39;00m _global_forward_pre_hooks):\n\u001b[32m-> \u001b[39m\u001b[32m1784\u001b[39m     \u001b[38;5;28;01mreturn\u001b[39;00m \u001b[43mforward_call\u001b[49m\u001b[43m(\u001b[49m\u001b[43m*\u001b[49m\u001b[43margs\u001b[49m\u001b[43m,\u001b[49m\u001b[43m \u001b[49m\u001b[43m*\u001b[49m\u001b[43m*\u001b[49m\u001b[43mkwargs\u001b[49m\u001b[43m)\u001b[49m\n\u001b[32m   1786\u001b[39m result = \u001b[38;5;28;01mNone\u001b[39;00m\n\u001b[32m   1787\u001b[39m called_always_called_hooks = \u001b[38;5;28mset\u001b[39m()\n",
      "\u001b[36mFile \u001b[39m\u001b[32mc:\\Users\\nico\\Code\\Cbot_Autodistill\\.venv\\Lib\\site-packages\\groundingdino\\models\\GroundingDINO\\transformer.py:244\u001b[39m, in \u001b[36mTransformer.forward\u001b[39m\u001b[34m(self, srcs, masks, refpoint_embed, pos_embeds, tgt, attn_mask, text_dict)\u001b[39m\n\u001b[32m    242\u001b[39m mask_flatten = torch.cat(mask_flatten, \u001b[32m1\u001b[39m)  \u001b[38;5;66;03m# bs, \\sum{hxw}\u001b[39;00m\n\u001b[32m    243\u001b[39m lvl_pos_embed_flatten = torch.cat(lvl_pos_embed_flatten, \u001b[32m1\u001b[39m)  \u001b[38;5;66;03m# bs, \\sum{hxw}, c\u001b[39;00m\n\u001b[32m--> \u001b[39m\u001b[32m244\u001b[39m spatial_shapes = \u001b[43mtorch\u001b[49m\u001b[43m.\u001b[49m\u001b[43mas_tensor\u001b[49m\u001b[43m(\u001b[49m\n\u001b[32m    245\u001b[39m \u001b[43m    \u001b[49m\u001b[43mspatial_shapes\u001b[49m\u001b[43m,\u001b[49m\u001b[43m \u001b[49m\u001b[43mdtype\u001b[49m\u001b[43m=\u001b[49m\u001b[43mtorch\u001b[49m\u001b[43m.\u001b[49m\u001b[43mlong\u001b[49m\u001b[43m,\u001b[49m\u001b[43m \u001b[49m\u001b[43mdevice\u001b[49m\u001b[43m=\u001b[49m\u001b[43msrc_flatten\u001b[49m\u001b[43m.\u001b[49m\u001b[43mdevice\u001b[49m\n\u001b[32m    246\u001b[39m \u001b[43m\u001b[49m\u001b[43m)\u001b[49m\n\u001b[32m    247\u001b[39m level_start_index = torch.cat(\n\u001b[32m    248\u001b[39m     (spatial_shapes.new_zeros((\u001b[32m1\u001b[39m,)), spatial_shapes.prod(\u001b[32m1\u001b[39m).cumsum(\u001b[32m0\u001b[39m)[:-\u001b[32m1\u001b[39m])\n\u001b[32m    249\u001b[39m )\n\u001b[32m    250\u001b[39m valid_ratios = torch.stack([\u001b[38;5;28mself\u001b[39m.get_valid_ratio(m) \u001b[38;5;28;01mfor\u001b[39;00m m \u001b[38;5;129;01min\u001b[39;00m masks], \u001b[32m1\u001b[39m)\n",
      "\u001b[36mFile \u001b[39m\u001b[32mc:\\Users\\nico\\Code\\Cbot_Autodistill\\.venv\\Lib\\site-packages\\torch\\utils\\_device.py:103\u001b[39m, in \u001b[36mDeviceContext.__torch_function__\u001b[39m\u001b[34m(self, func, types, args, kwargs)\u001b[39m\n\u001b[32m    101\u001b[39m \u001b[38;5;28;01mif\u001b[39;00m func \u001b[38;5;129;01min\u001b[39;00m _device_constructors() \u001b[38;5;129;01mand\u001b[39;00m kwargs.get(\u001b[33m\"\u001b[39m\u001b[33mdevice\u001b[39m\u001b[33m\"\u001b[39m) \u001b[38;5;129;01mis\u001b[39;00m \u001b[38;5;28;01mNone\u001b[39;00m:\n\u001b[32m    102\u001b[39m     kwargs[\u001b[33m\"\u001b[39m\u001b[33mdevice\u001b[39m\u001b[33m\"\u001b[39m] = \u001b[38;5;28mself\u001b[39m.device\n\u001b[32m--> \u001b[39m\u001b[32m103\u001b[39m \u001b[38;5;28;01mreturn\u001b[39;00m \u001b[43mfunc\u001b[49m\u001b[43m(\u001b[49m\u001b[43m*\u001b[49m\u001b[43margs\u001b[49m\u001b[43m,\u001b[49m\u001b[43m \u001b[49m\u001b[43m*\u001b[49m\u001b[43m*\u001b[49m\u001b[43mkwargs\u001b[49m\u001b[43m)\u001b[49m\n",
      "\u001b[31mAcceleratorError\u001b[39m: CUDA error: an illegal memory access was encountered\nCUDA kernel errors might be asynchronously reported at some other API call, so the stacktrace below might be incorrect.\nFor debugging consider passing CUDA_LAUNCH_BLOCKING=1\nCompile with `TORCH_USE_CUDA_DSA` to enable device-side assertions.\n"
     ]
    }
   ],
   "source": [
    "from autodistill_grounding_dino import GroundingDINO\n",
    "import torch\n",
    "\n",
    "if not torch.cuda.is_available():\n",
    "    raise EnvironmentError(\"CUDA is not available on this machine.\")\n",
    "\n",
    "torch.cuda.set_device(0)\n",
    "try:\n",
    "    torch.set_default_device(\"cuda\")\n",
    "except AttributeError:\n",
    "    pass\n",
    "\n",
    "base_model = GroundingDINO(ontology=ontology)\n",
    "\n",
    "print(f\"Etiquetando frames en ./frames/{out_dir.name}\")\n",
    "\n",
    "base_model.label(input_folder=f\"./frames/{out_dir.name}\", extension=\".png\", output_folder=f\"./dataset/{out_dir.name}\")\n",
    "\n",
    "print(f\"Dataset creado en: ./dataset/{out_dir.name}\")"
   ]
  }
 ],
 "metadata": {
  "kernelspec": {
   "display_name": "cbot-autodistill",
   "language": "python",
   "name": "python3"
  },
  "language_info": {
   "codemirror_mode": {
    "name": "ipython",
    "version": 3
   },
   "file_extension": ".py",
   "mimetype": "text/x-python",
   "name": "python",
   "nbconvert_exporter": "python",
   "pygments_lexer": "ipython3",
   "version": "3.12.9"
  }
 },
 "nbformat": 4,
 "nbformat_minor": 5
}
